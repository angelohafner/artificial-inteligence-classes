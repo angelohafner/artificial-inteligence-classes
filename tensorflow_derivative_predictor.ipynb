{
 "cells": [
  {
   "cell_type": "markdown",
   "id": "a93376ca",
   "metadata": {},
   "source": [
    "# 🧠 TensorFlow Neural Network to Learn Derivatives\n",
    "\n",
    "This notebook trains a neural network to approximate the derivative $d(x) = \\frac{dy}{dx}$ from tables of points (x, y) and (x, d).\n",
    "\n",
    "Each input is a pair (x, y), and the target is d(x)."
   ]
  },
  {
   "cell_type": "code",
   "execution_count": null,
   "id": "47b06da1",
   "metadata": {},
   "outputs": [],
   "source": [
    "# 📦 Install TensorFlow (if needed)\n",
    "!pip install -q tensorflow\n",
    "\n",
    "# 📚 Import libraries\n",
    "import tensorflow as tf\n",
    "import numpy as np\n",
    "import matplotlib.pyplot as plt"
   ]
  },
  {
   "cell_type": "markdown",
   "id": "91eb4d6b",
   "metadata": {},
   "source": [
    "## 🧪 Generate Example Data\n",
    "In real applications, you'd load actual tables. Here we generate data for $y = x^2$, so $d = 2x$."
   ]
  },
  {
   "cell_type": "code",
   "execution_count": null,
   "id": "32392044",
   "metadata": {},
   "outputs": [],
   "source": [
    "# 🔢 Generate synthetic data\n",
    "def generate_data():\n",
    "    x = np.linspace(-2, 2, 100)\n",
    "    y = x ** 2\n",
    "    d = 2 * x  # derivative of x^2\n",
    "    return x.astype(np.float32), y.astype(np.float32), d.astype(np.float32)\n",
    "\n",
    "x_vals, y_vals, d_vals = generate_data()\n",
    "\n",
    "# Prepare training features and labels\n",
    "X_train = np.stack([x_vals, y_vals], axis=1)\n",
    "y_train = d_vals.reshape(-1, 1)"
   ]
  },
  {
   "cell_type": "markdown",
   "id": "b6f048a0",
   "metadata": {},
   "source": [
    "## 🧠 Build the Model"
   ]
  },
  {
   "cell_type": "code",
   "execution_count": null,
   "id": "7c248802",
   "metadata": {},
   "outputs": [],
   "source": [
    "# Create the neural network model\n",
    "model = tf.keras.Sequential([\n",
    "    tf.keras.layers.Dense(64, activation='relu', input_shape=(2,)),\n",
    "    tf.keras.layers.Dense(64, activation='relu'),\n",
    "    tf.keras.layers.Dense(1)  # output = predicted derivative\n",
    "])\n",
    "\n",
    "model.compile(optimizer='adam', loss='mse')"
   ]
  },
  {
   "cell_type": "markdown",
   "id": "3433edb4",
   "metadata": {},
   "source": [
    "## 🏋️‍♂️ Train the Model"
   ]
  },
  {
   "cell_type": "code",
   "execution_count": null,
   "id": "3f10a518",
   "metadata": {},
   "outputs": [],
   "source": [
    "# Train the model\n",
    "history = model.fit(\n",
    "    X_train, y_train,\n",
    "    epochs=200,\n",
    "    batch_size=32,\n",
    "    validation_split=0.1,\n",
    "    verbose=1\n",
    ")"
   ]
  },
  {
   "cell_type": "markdown",
   "id": "44567007",
   "metadata": {},
   "source": [
    "## 📉 Training Loss"
   ]
  },
  {
   "cell_type": "code",
   "execution_count": null,
   "id": "8fcb734a",
   "metadata": {},
   "outputs": [],
   "source": [
    "# Plot the training loss\n",
    "import matplotlib.pyplot as plt\n",
    "plt.plot(history.history['loss'], label='Train Loss')\n",
    "plt.plot(history.history['val_loss'], label='Val Loss')\n",
    "plt.title('Loss During Training')\n",
    "plt.xlabel('Epoch')\n",
    "plt.ylabel('MSE Loss')\n",
    "plt.grid(True)\n",
    "plt.legend()\n",
    "plt.show()"
   ]
  },
  {
   "cell_type": "markdown",
   "id": "206e6326",
   "metadata": {},
   "source": [
    "## 🔍 Predict Derivative from (x, y)"
   ]
  },
  {
   "cell_type": "code",
   "execution_count": null,
   "id": "12cc1845",
   "metadata": {},
   "outputs": [],
   "source": [
    "# Example: predict derivative at x = 0.75 for y = x^2 = 0.5625\n",
    "x_new = np.array([0.75], dtype=np.float32)\n",
    "y_new = np.array([0.75**2], dtype=np.float32)\n",
    "\n",
    "d_pred = model.predict(np.stack([x_new, y_new], axis=1))\n",
    "print(\"Predicted derivative:\", d_pred[0, 0])"
   ]
  },
  {
   "cell_type": "markdown",
   "id": "3582095f",
   "metadata": {},
   "source": [
    "## ✅ Summary\n",
    "- Input: (x, y)\n",
    "- Output: predicted derivative $\\frac{dy}{dx}$\n",
    "- Trainable for many functions if fed with appropriate datasets.\n",
    "\n",
    "You can extend this by feeding tables from physical experiments, CSV files, or symbolic derivatives."
   ]
  }
 ],
 "metadata": {},
 "nbformat": 4,
 "nbformat_minor": 5
}
