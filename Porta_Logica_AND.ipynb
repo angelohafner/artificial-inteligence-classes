{
  "nbformat": 4,
  "nbformat_minor": 0,
  "metadata": {
    "colab": {
      "provenance": []
    },
    "kernelspec": {
      "name": "python3",
      "display_name": "Python 3"
    },
    "language_info": {
      "name": "python"
    }
  },
  "cells": [
    {
      "cell_type": "code",
      "execution_count": null,
      "metadata": {
        "id": "yf7uL2jrQgB-"
      },
      "outputs": [],
      "source": [
        "import numpy as np"
      ]
    },
    {
      "cell_type": "code",
      "source": [
        "def stepFunction(x):\n",
        "    if x > 0.5:\n",
        "        return 1\n",
        "    return 0"
      ],
      "metadata": {
        "id": "L0ycQgUyQmHj"
      },
      "execution_count": null,
      "outputs": []
    },
    {
      "cell_type": "code",
      "source": [
        "inputs = [[0, 0], [0, 1], [1, 0], [1, 1]]\n",
        "weight = [0.1, 0.2]\n",
        "outputs = [0, 0, 0, 1]\n",
        "error =   [10, 10, 10, 10]\n",
        "taxaAprendizagem = 0.1"
      ],
      "metadata": {
        "id": "6AYGHr0XRCAn"
      },
      "execution_count": null,
      "outputs": []
    },
    {
      "cell_type": "code",
      "source": [
        "erro_geral = 1000\n",
        "while erro_geral != 0:\n",
        "    print(\"=========================\")\n",
        "    for i in range(len(inputs)):\n",
        "        prod_escalar = np.dot(inputs[i], weight)\n",
        "        saida = stepFunction(prod_escalar)\n",
        "        error[i] = outputs[i] - saida\n",
        "        print(f'Entrada: {inputs[i]} | Peso: {weight} | prod_escalar: {prod_escalar} |Saida: {saida} | Erro: {error[i]}')\n",
        "    erro_geral = np.sum(error)\n",
        "\n",
        "    weight = weight + taxaAprendizagem * erro_geral\n",
        "    print(f'Novos pesos: {weight}')\n",
        "    print(\"=========================\")"
      ],
      "metadata": {
        "colab": {
          "base_uri": "https://localhost:8080/"
        },
        "id": "bfMUs2dDRPE_",
        "outputId": "7714340a-7dd5-4d0a-95a2-a662132449f4"
      },
      "execution_count": null,
      "outputs": [
        {
          "output_type": "stream",
          "name": "stdout",
          "text": [
            "=========================\n",
            "Entrada: [0, 0] | Peso: [0.1, 0.2] | prod_escalar: 0.0 |Saida: 0 | Erro: 0\n",
            "Entrada: [0, 1] | Peso: [0.1, 0.2] | prod_escalar: 0.2 |Saida: 0 | Erro: 0\n",
            "Entrada: [1, 0] | Peso: [0.1, 0.2] | prod_escalar: 0.1 |Saida: 0 | Erro: 0\n",
            "Entrada: [1, 1] | Peso: [0.1, 0.2] | prod_escalar: 0.30000000000000004 |Saida: 0 | Erro: 1\n",
            "Novos pesos: [0.2 0.3]\n",
            "=========================\n",
            "=========================\n",
            "Entrada: [0, 0] | Peso: [0.2 0.3] | prod_escalar: 0.0 |Saida: 0 | Erro: 0\n",
            "Entrada: [0, 1] | Peso: [0.2 0.3] | prod_escalar: 0.30000000000000004 |Saida: 0 | Erro: 0\n",
            "Entrada: [1, 0] | Peso: [0.2 0.3] | prod_escalar: 0.2 |Saida: 0 | Erro: 0\n",
            "Entrada: [1, 1] | Peso: [0.2 0.3] | prod_escalar: 0.5 |Saida: 0 | Erro: 1\n",
            "Novos pesos: [0.3 0.4]\n",
            "=========================\n",
            "=========================\n",
            "Entrada: [0, 0] | Peso: [0.3 0.4] | prod_escalar: 0.0 |Saida: 0 | Erro: 0\n",
            "Entrada: [0, 1] | Peso: [0.3 0.4] | prod_escalar: 0.4 |Saida: 0 | Erro: 0\n",
            "Entrada: [1, 0] | Peso: [0.3 0.4] | prod_escalar: 0.30000000000000004 |Saida: 0 | Erro: 0\n",
            "Entrada: [1, 1] | Peso: [0.3 0.4] | prod_escalar: 0.7000000000000001 |Saida: 1 | Erro: 0\n",
            "Novos pesos: [0.3 0.4]\n",
            "=========================\n"
          ]
        }
      ]
    }
  ]
}