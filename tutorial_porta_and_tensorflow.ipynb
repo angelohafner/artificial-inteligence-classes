{
  "cells": [
    {
      "cell_type": "markdown",
      "id": "7e89d970",
      "metadata": {
        "id": "7e89d970"
      },
      "source": [
        "# Implementação de uma Porta AND usando TensorFlow"
      ]
    },
    {
      "cell_type": "markdown",
      "id": "dba903c9",
      "metadata": {
        "id": "dba903c9"
      },
      "source": [
        "Neste exemplo, vamos usar o TensorFlow para implementar uma porta lógica AND. A porta AND tem o seguinte comportamento:"
      ]
    },
    {
      "cell_type": "markdown",
      "id": "5f247167",
      "metadata": {
        "id": "5f247167"
      },
      "source": [
        "| Entrada A | Entrada B | Saída (A AND B) |\n",
        "|-----------|-----------|----------------|\n",
        "|     0     |     0     |        0       |\n",
        "|     0     |     1     |        0       |\n",
        "|     1     |     0     |        0       |\n",
        "|     1     |     1     |        1       |"
      ]
    },
    {
      "cell_type": "markdown",
      "id": "7c93e177",
      "metadata": {
        "id": "7c93e177"
      },
      "source": [
        "### 1. Importando o TensorFlow"
      ]
    },
    {
      "cell_type": "code",
      "execution_count": null,
      "id": "c28e7bb5",
      "metadata": {
        "id": "c28e7bb5"
      },
      "outputs": [],
      "source": [
        "import tensorflow as tf\n",
        "import numpy as np"
      ]
    },
    {
      "cell_type": "markdown",
      "id": "aad2636a",
      "metadata": {
        "id": "aad2636a"
      },
      "source": [
        "### 2. Criando os dados de entrada e saída para a porta AND"
      ]
    },
    {
      "cell_type": "code",
      "execution_count": null,
      "id": "29b8b47b",
      "metadata": {
        "colab": {
          "base_uri": "https://localhost:8080/"
        },
        "id": "29b8b47b",
        "outputId": "220efa45-3060-4d27-a96f-96afc372e60c"
      },
      "outputs": [
        {
          "output_type": "stream",
          "name": "stdout",
          "text": [
            "Entradas (A, B): [[0. 0.]\n",
            " [0. 1.]\n",
            " [1. 0.]\n",
            " [1. 1.]]\n",
            "Saídas (A AND B): [[0.]\n",
            " [0.]\n",
            " [0.]\n",
            " [1.]]\n"
          ]
        }
      ],
      "source": [
        "# Dados de entrada (A e B)\n",
        "inputs = np.array([[0, 0], [0, 1], [1, 0], [1, 1]], dtype=float)\n",
        "\n",
        "# Dados de saída correspondentes (A AND B)\n",
        "outputs = np.array([[0], [0], [0], [1]], dtype=float)\n",
        "\n",
        "print(\"Entradas (A, B):\", inputs)\n",
        "print(\"Saídas (A AND B):\", outputs)"
      ]
    },
    {
      "cell_type": "markdown",
      "id": "dc6c8eea",
      "metadata": {
        "id": "dc6c8eea"
      },
      "source": [
        "### 3. Criando o modelo"
      ]
    },
    {
      "cell_type": "code",
      "execution_count": null,
      "id": "79f32a8d",
      "metadata": {
        "colab": {
          "base_uri": "https://localhost:8080/"
        },
        "id": "79f32a8d",
        "outputId": "adab1449-32a3-4780-aa70-ea041f4a5b9c"
      },
      "outputs": [
        {
          "output_type": "stream",
          "name": "stderr",
          "text": [
            "/usr/local/lib/python3.10/dist-packages/keras/src/layers/core/dense.py:87: UserWarning: Do not pass an `input_shape`/`input_dim` argument to a layer. When using Sequential models, prefer using an `Input(shape)` object as the first layer in the model instead.\n",
            "  super().__init__(activity_regularizer=activity_regularizer, **kwargs)\n"
          ]
        }
      ],
      "source": [
        "# Definindo o modelo com uma camada densa e um neurônio\n",
        "model = tf.keras.Sequential([\n",
        "    tf.keras.layers.Dense(units=1, input_shape=[2], activation='sigmoid')  # Camada com um neurônio e função de ativação sigmoide\n",
        "])\n",
        "\n",
        "# Compilando o modelo\n",
        "model.compile(optimizer='sgd', loss='mean_squared_error', metrics=['binary_accuracy'])\n",
        "\n"
      ]
    },
    {
      "cell_type": "markdown",
      "id": "d55e0ab1",
      "metadata": {
        "id": "d55e0ab1"
      },
      "source": [
        "### 4. Treinando o modelo"
      ]
    },
    {
      "cell_type": "code",
      "execution_count": null,
      "id": "db50b2e0",
      "metadata": {
        "colab": {
          "base_uri": "https://localhost:8080/"
        },
        "id": "db50b2e0",
        "outputId": "b85a96b3-d038-4b6d-d898-15006f0ddf8e"
      },
      "outputs": [
        {
          "output_type": "stream",
          "name": "stdout",
          "text": [
            "Treinamento concluído!\n"
          ]
        }
      ],
      "source": [
        "# Treinando o modelo com os dados de entrada e saída\n",
        "model.fit(inputs, outputs, epochs=1000, verbose=0)\n",
        "\n",
        "print(\"Treinamento concluído!\")"
      ]
    },
    {
      "cell_type": "markdown",
      "id": "3ac0e1e3",
      "metadata": {
        "id": "3ac0e1e3"
      },
      "source": [
        "### 5. Fazendo predições"
      ]
    },
    {
      "cell_type": "code",
      "execution_count": null,
      "id": "d20e4073",
      "metadata": {
        "colab": {
          "base_uri": "https://localhost:8080/"
        },
        "id": "d20e4073",
        "outputId": "d2858e63-553a-41d3-afc7-9a235fd41a10"
      },
      "outputs": [
        {
          "output_type": "stream",
          "name": "stdout",
          "text": [
            "\u001b[1m1/1\u001b[0m \u001b[32m━━━━━━━━━━━━━━━━━━━━\u001b[0m\u001b[37m\u001b[0m \u001b[1m0s\u001b[0m 60ms/step\n",
            "Predições para a porta AND:\n",
            "Entrada: [0. 0.], Saída prevista: 0.0, Saída real: 0.0\n",
            "Entrada: [0. 1.], Saída prevista: 0.0, Saída real: 0.0\n",
            "Entrada: [1. 0.], Saída prevista: 0.0, Saída real: 0.0\n",
            "Entrada: [1. 1.], Saída prevista: 1.0, Saída real: 1.0\n"
          ]
        }
      ],
      "source": [
        "# Fazendo predições com o modelo treinado\n",
        "predictions = model.predict(inputs)\n",
        "\n",
        "print(\"Predições para a porta AND:\")\n",
        "for i, pred in enumerate(predictions):\n",
        "    print(f\"Entrada: {inputs[i]}, Saída prevista: {np.round(pred[0])}, Saída real: {outputs[i][0]}\")"
      ]
    },
    {
      "cell_type": "markdown",
      "id": "6755fbe8",
      "metadata": {
        "id": "6755fbe8"
      },
      "source": [
        "### Conclusão"
      ]
    },
    {
      "cell_type": "markdown",
      "id": "46ac05d1",
      "metadata": {
        "id": "46ac05d1"
      },
      "source": [
        "Neste exemplo, criamos uma rede neural simples para simular o comportamento de uma porta AND. A rede foi treinada para aprender o padrão lógico AND com uma camada densa de um único neurônio, usando a função de ativação sigmoide para produzir saídas binárias."
      ]
    }
  ],
  "metadata": {
    "colab": {
      "provenance": []
    },
    "language_info": {
      "name": "python"
    },
    "kernelspec": {
      "name": "python3",
      "display_name": "Python 3"
    }
  },
  "nbformat": 4,
  "nbformat_minor": 5
}