{
  "cells": [
    {
      "cell_type": "code",
      "execution_count": null,
      "id": "47b53e41",
      "metadata": {
        "id": "47b53e41"
      },
      "outputs": [],
      "source": [
        "#!pip install tensorflow\n",
        "import tensorflow as tf\n",
        "import numpy as np\n",
        "from keras.callbacks import LambdaCallback"
      ]
    },
    {
      "cell_type": "code",
      "execution_count": null,
      "id": "0a4837f2",
      "metadata": {
        "colab": {
          "base_uri": "https://localhost:8080/"
        },
        "id": "0a4837f2",
        "outputId": "ad271855-485a-4030-80a0-3855e413a71d"
      },
      "outputs": [
        {
          "output_type": "stream",
          "name": "stdout",
          "text": [
            " -40.0 °C =  -40.0 °F\n",
            " -10.0 °C =  -10.0 °F\n",
            "   0.0 °C =    0.0 °F\n",
            "   8.0 °C =    8.0 °F\n",
            "  15.0 °C =   15.0 °F\n",
            "  22.0 °C =   22.0 °F\n",
            "  38.0 °C =   38.0 °F\n"
          ]
        }
      ],
      "source": [
        "celsius_q    = np.array([-40, -10,  0,  8, 15, 22,  38],  dtype=float)\n",
        "fahrenheit_a = np.array([-40,  14, 32, 46, 59, 72, 100],  dtype=float)\n",
        "\n",
        "for i,c in enumerate(celsius_q):\n",
        "  print(\"{0:6.1f} °C = {0:6.1f} °F\".format(c, fahrenheit_a[i]))"
      ]
    },
    {
      "cell_type": "code",
      "execution_count": null,
      "id": "bf552658",
      "metadata": {
        "id": "bf552658"
      },
      "outputs": [],
      "source": [
        "l0 = tf.keras.layers.Dense(units=1, input_shape=[1]) #Create the model"
      ]
    },
    {
      "cell_type": "code",
      "execution_count": null,
      "id": "a4797e58",
      "metadata": {
        "id": "a4797e58"
      },
      "outputs": [],
      "source": [
        "model = tf.keras.Sequential([l0]) #Assemble layers in the model"
      ]
    },
    {
      "cell_type": "code",
      "source": [
        "print_weights = LambdaCallback(on_epoch_end=lambda batch, logs: print(model.layers[0].get_weights()))"
      ],
      "metadata": {
        "id": "b9wycHSrJ87Q"
      },
      "id": "b9wycHSrJ87Q",
      "execution_count": null,
      "outputs": []
    },
    {
      "cell_type": "code",
      "execution_count": null,
      "id": "81f29e87",
      "metadata": {
        "id": "81f29e87"
      },
      "outputs": [],
      "source": [
        "model.compile(loss='mean_squared_error',\n",
        "              optimizer=tf.keras.optimizers.Adam(0.1)) #Compile the model, with loss and optimizer functions. Adam(learning rate) between 0.1 and 0.001"
      ]
    },
    {
      "cell_type": "code",
      "execution_count": null,
      "id": "3ebbc34c",
      "metadata": {
        "colab": {
          "base_uri": "https://localhost:8080/"
        },
        "id": "3ebbc34c",
        "outputId": "9a2aa6e7-65be-4df0-d9ea-f60c74a8d5bc"
      },
      "outputs": [
        {
          "output_type": "stream",
          "name": "stdout",
          "text": [
            "Finished training the model\n"
          ]
        }
      ],
      "source": [
        "history = model.fit(celsius_q, fahrenheit_a, epochs=1000, verbose=False) #Train the model\n",
        "print(\"Finished training the model\")"
      ]
    },
    {
      "cell_type": "code",
      "execution_count": null,
      "id": "ba572f59",
      "metadata": {
        "colab": {
          "base_uri": "https://localhost:8080/",
          "height": 279
        },
        "id": "ba572f59",
        "outputId": "0c1a4235-a3fc-469e-806c-2c6b474fd731"
      },
      "outputs": [
        {
          "output_type": "display_data",
          "data": {
            "text/plain": [
              "<Figure size 432x288 with 1 Axes>"
            ],
            "image/png": "[encoded data removed]"
          },
          "metadata": {
            "needs_background": "light"
          }
        }
      ],
      "source": [
        "import matplotlib.pyplot as plt #Display training statistics\n",
        "plt.xlabel('Epoch Number')\n",
        "plt.ylabel(\"Loss Magnitude\")\n",
        "plt.plot(history.history['loss'])\n",
        "plt.grid()"
      ]
    },
    {
      "cell_type": "code",
      "execution_count": null,
      "id": "e40d86b4",
      "metadata": {
        "colab": {
          "base_uri": "https://localhost:8080/"
        },
        "id": "e40d86b4",
        "outputId": "c4163a99-edaf-4bb0-ae9d-3dadafb0ce6b"
      },
      "outputs": [
        {
          "output_type": "stream",
          "name": "stdout",
          "text": [
            "1/1 [==============================] - 0s 57ms/step\n",
            "[[ 31.927177]\n",
            " [121.8354  ]\n",
            " [211.74362 ]]\n"
          ]
        }
      ],
      "source": [
        "print(model.predict([0,50,100])) #Use the model to predict values"
      ]
    },
    {
      "cell_type": "code",
      "execution_count": null,
      "id": "3b1d145e",
      "metadata": {
        "colab": {
          "base_uri": "https://localhost:8080/"
        },
        "id": "3b1d145e",
        "outputId": "a9ee281c-ebea-4d35-c360-0d24ec40ab10"
      },
      "outputs": [
        {
          "output_type": "stream",
          "name": "stdout",
          "text": [
            "These are the layer variables: [array([[1.7981645]], dtype=float32), array([31.927177], dtype=float32)]\n"
          ]
        }
      ],
      "source": [
        "print(\"These are the layer variables: {}\".format(l0.get_weights())) #internal variables of the Dense layer (esperado: 1.8*C+32)"
      ]
    },
    {
      "cell_type": "code",
      "execution_count": null,
      "id": "bcba962a",
      "metadata": {
        "id": "bcba962a",
        "colab": {
          "base_uri": "https://localhost:8080/"
        },
        "outputId": "19a86bf3-fe5f-4507-806a-4e9fd4e75310"
      },
      "outputs": [
        {
          "output_type": "stream",
          "name": "stdout",
          "text": [
            "Weights: \n",
            " <tf.Variable 'dense_4/kernel:0' shape=(1, 1) dtype=float32, numpy=array([[1.7981645]], dtype=float32)> \n",
            " Bias: \n",
            " <tf.Variable 'dense_4/bias:0' shape=(1,) dtype=float32, numpy=array([31.927177], dtype=float32)>\n"
          ]
        }
      ],
      "source": [
        "w, b = model.weights\n",
        "print(\"Weights: \\n {} \\n Bias: \\n {}\".format(w,b))"
      ]
    },
    {
      "cell_type": "code",
      "execution_count": null,
      "id": "badb8eeb",
      "metadata": {
        "id": "badb8eeb"
      },
      "outputs": [],
      "source": []
    }
  ],
  "metadata": {
    "kernelspec": {
      "display_name": "Python 3",
      "language": "python",
      "name": "python3"
    },
    "language_info": {
      "codemirror_mode": {
        "name": "ipython",
        "version": 3
      },
      "file_extension": ".py",
      "mimetype": "text/x-python",
      "name": "python",
      "nbconvert_exporter": "python",
      "pygments_lexer": "ipython3",
      "version": "3.8.8"
    },
    "colab": {
      "provenance": []
    }
  },
  "nbformat": 4,
  "nbformat_minor": 5
}